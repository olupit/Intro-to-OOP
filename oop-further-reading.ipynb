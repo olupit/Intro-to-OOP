{
 "cells": [
  {
   "cell_type": "markdown",
   "id": "f9e0a176",
   "metadata": {},
   "source": [
    "# Object Orientation in Python\n",
    "\n",
    "This notebook helps you explore some of the object oriented features in Python.\n",
    "\n",
    "There are quite a few concepts to pick up here.  The best way to learn is by example.  Please ask if you cannot get your head round some of the concepts.\n",
    "\n",
    "## Defining a class\n",
    "\n",
    "The first thing you need to do with the class is to be able to define that class.  That means you have to be able to define a set of properties and behaviours for that class.\n",
    "\n",
    "Maybe we would like to create a class of objects that encapsulate a temperature reading from a weather station.\n",
    "\n",
    "You use the `class` keyword to define the name of the class."
   ]
  },
  {
   "cell_type": "code",
   "execution_count": 3,
   "id": "5da9b846",
   "metadata": {},
   "outputs": [],
   "source": [
    "class TemperatureReading:\n",
    "    pass"
   ]
  },
  {
   "cell_type": "markdown",
   "id": "c6a7f229",
   "metadata": {},
   "source": [
    "Note that `pass` keyword in python does nothing.  Sounds pointless, but it can be useful as a placeholder where you might put some code later, but just want to create a skeleton for now.\n",
    "\n",
    "## Instantiating a class\n",
    "\n",
    "You need to understand that class is a description for a type of a *thing*.  It is **not** the *thing*! Just in the same way as you might have plans for a particular type of car plants themselves are not the car. In order to create a particular instance of a vehicle you need to construct it.  This is just the same for class. You can instantiate a class like this:"
   ]
  },
  {
   "cell_type": "code",
   "execution_count": 4,
   "id": "eb366906",
   "metadata": {},
   "outputs": [],
   "source": [
    "a = TemperatureReading()"
   ]
  },
  {
   "cell_type": "markdown",
   "id": "15509e97",
   "metadata": {},
   "source": [
    "Try adding `a` in a new Code block after it is instantiated above.  Or, you could try to print it.  Either way you will see something like this:\n",
    "    \n",
    " `<__main__.TemperatureReading at 0x7fbc64fa8100>`\n",
    " \n",
    " This is a reference to the object.\n",
    " \n",
    " Try creating multiple readings and printing them.  You will see they each have a different reference.  They are all different instances of the same class.\n",
    " \n",
    "## Defining properties\n",
    "\n",
    "So far our class is pretty useless. It has no data or behaviours associated with it.  Think about what data a Temperature Reading might have?  What would you write down if you were systematically recording the temperature from a thermometer every hour?\n",
    "\n",
    "I'd probably be thinking about the temperature and the date and time.\n",
    "\n",
    "Let's redefine the class to include two things:\n",
    "\n",
    "* The two properties\n",
    "* A constructor which is used to build an instance of the class\n",
    "\n",
    "The constructor is a special method (more on these in a minute) which has a specific name `__init__`"
   ]
  },
  {
   "cell_type": "code",
   "execution_count": 5,
   "id": "dcc1899e",
   "metadata": {},
   "outputs": [],
   "source": [
    "class TemperatureReading:\n",
    "    def __init__(self, tempcelsius, time):\n",
    "        self.tempcelsius = tempcelsius\n",
    "        self.time = time"
   ]
  },
  {
   "cell_type": "markdown",
   "id": "33ef33bc",
   "metadata": {},
   "source": [
    "Here is some tricky stuff to get your head round. The edit method takes three arguments. `tempCelsius` and `time` are fairly self explanatory.  The user passes these two arguments to the `__init__` constructor which is then going to store them in the newly created instance.\n",
    "\n",
    "`self` is a special argument that you always see in python methods.  Within the method you can refer to the instance by using the `self` argument.\n",
    "\n",
    "This principle is used in the two lines of `__init__` which take the arguments from the call to `__init__` and set them on the attributes of an instance of the class TemperatureReading.\n",
    "\n",
    "It is best to see this with an example:"
   ]
  },
  {
   "cell_type": "code",
   "execution_count": 6,
   "id": "44e4f1fc",
   "metadata": {},
   "outputs": [],
   "source": [
    "from datetime import datetime\n",
    "\n",
    "a = TemperatureReading(10.1, datetime.fromisoformat('2022-01-01 01:00:00'))\n",
    "b = TemperatureReading(10.5, datetime.fromisoformat('2022-01-01 02:00:00'))\n",
    "c = TemperatureReading(12.2, datetime.fromisoformat('2022-01-01 03:00:00'))"
   ]
  },
  {
   "cell_type": "markdown",
   "id": "7136eaf2",
   "metadata": {},
   "source": [
    "<div class=\"alert alert-block alert-info\">\n",
    "Notice that we are importing datetime to help us manage dates and times.  `datetime` is a class that has been defined in the python language.  It encapsulates all the complexity of data and time formats.  It has data and a range of behaviours to create, manipulate and do calculations on dates and times.  If you want to dig deeper, take a look at the docs for <a href=https://docs.python.org/3/library/datetime.html>datetime</A>.\n",
    "</div>"
   ]
  },
  {
   "cell_type": "markdown",
   "id": "40394cb5",
   "metadata": {},
   "source": [
    "If you try printing the three different temperatures (a, b, c) that we have declared, you will still see something like this: `<__main__.TemperatureReading object at 0x7fbc64a277c0>`.  This will let you see that there are three different instances, but sometimes for debugging purposed, printing variables is helpful.\n",
    "\n",
    "We can add a special __str__ method which prints something that is a bit more meaningful."
   ]
  },
  {
   "cell_type": "code",
   "execution_count": 7,
   "id": "20ea2360",
   "metadata": {},
   "outputs": [],
   "source": [
    "class TemperatureReading:\n",
    "    def __init__(self, tempcelsius, time):\n",
    "        self.tempcelsius = tempcelsius\n",
    "        self.time = time\n",
    "        \n",
    "    def __str__(self):\n",
    "        return ( (\"Temp: {:.1f} \" + self.time.isoformat()).format(self.tempCelsius, self.time))"
   ]
  },
  {
   "cell_type": "markdown",
   "id": "a428765e",
   "metadata": {},
   "source": [
    "<div class=\"alert alert-block alert-info\">\n",
    "When creating the string to return, we are using the format() method of the String class.  This is because we cannot just add a string to a float.  If you want to dig deeper, take a look at the docs for <a href=https://www.w3schools.com/python/ref_string_format.asp>format()</A>.\n",
    "</div>"
   ]
  },
  {
   "cell_type": "markdown",
   "id": "4078e503",
   "metadata": {},
   "source": [
    "Try printing a, b and c now and you should see something more meaningful.\n",
    "\n",
    "Notice in the definition of `__str__` we have used `self` to refer to the current instance and to access the contents of the two attributes.\n",
    "\n",
    "# Defining behaviours\n",
    "\n",
    "Behaviours in classes are defined in methods which can be called from other code.  We now have defined a simple class with two attributes and a couple of behaviours (`__init__` and `__str__`); one to construct an instance and another to automatically create a string representation of the instance.  These behaviours are kind of technical and related to implementation.  \n",
    "\n",
    "From and OO Modelling point of view, we are interested in identifying business behaviour.  You need to think about what would you like to ask an instance to do?  We can ask the `datetime` class to create dates with different formats and timezones, to calculate time differences and even create a date representing now.\n",
    "\n",
    "So what might we want `TemperatureReading` to do?  There are some elementary things like giving us back the time and the temperature. Try and extract the time or the temperature from one of the TemperatureReadings you created above.  For example print(a.tempcelsius)."
   ]
  },
  {
   "cell_type": "code",
   "execution_count": 8,
   "id": "f29abf6e",
   "metadata": {},
   "outputs": [
    {
     "name": "stdout",
     "output_type": "stream",
     "text": [
      "10.1\n"
     ]
    }
   ],
   "source": [
    "print(a.tempcelsius)"
   ]
  },
  {
   "cell_type": "markdown",
   "id": "72952e0d",
   "metadata": {},
   "source": [
    "Perhaps it would be useful if an instance could return the temperature as celsius or fahrenheit.  We can define two methods `get_celsius` and `get_fahrenheit`\n",
    "\n",
    "The formula to convert celsius to fahrenheit is:\n",
    "\n",
    "$$ F = \\frac{9}{5}C + 32 $$\n",
    "\n",
    "Using these formulas, can you implement the `get_celsius` and `get_fahrenheit` methods below."
   ]
  },
  {
   "cell_type": "code",
   "execution_count": 9,
   "id": "90354c00",
   "metadata": {},
   "outputs": [],
   "source": [
    "class TemperatureReading:\n",
    "    def __init__(self, tempcelsius, time):\n",
    "        self.tempcelsius = tempcelsius\n",
    "        self.time = time\n",
    "        \n",
    "    def __str__(self):\n",
    "        return ( (\"Temp: {:.1f} \" + self.time.isoformat()).format(self.tempcelsius, self.time))\n",
    "\n",
    "    def get_celsius(self):\n",
    "        # this just needs to return the temperature which is already in celsius\n",
    "        return self.tempcelsius\n",
    "    \n",
    "    def get_fahrenheit(self):\n",
    "        # this needs to be implemented.\n",
    "        return 0"
   ]
  },
  {
   "cell_type": "markdown",
   "id": "45d5d477",
   "metadata": {},
   "source": [
    "It would be nice to be able to create a temperature reading with a fahrenheit value too.  Some languages allow you to have multiple constructors, but Python does not.  Instead we can create a factory method.\n",
    "\n",
    "This the point at which to explain that some methods are *instance* methods and some are *class* methods, also known as *static* methods.  \n",
    "\n",
    "When you call *instance* methods you are working with a particular instance.  So, you will get different results when you call a.get_celsius() or b.get_celsius() because a and b are two different objects with their own data, so calling methods will give different results.\n",
    "\n",
    "`__init__` is a static method because it is called on the class, not on the instance.  If we would like to add another method to create a temperature teading with a fahrenheit value it must be defined on the class, not on the instance.\n",
    "\n",
    "Think about it, it doesn't make sense to call a create method on an object that already exists.\n",
    "\n",
    "A factory method has been defined in the code below.  The `@classmethod` decorator can be used to signal that this is a class or static method.  Python will automatically pass a reference (cls) to the class to the method as well as the two arguments needed to construct the instance.  This time we pass the temperature in fahrenheit and the time of the reading.\n",
    "\n",
    "Although we are passing in a fahrenheit value, we are still going to store the celsius value so we need to convert it.  Implement the method and then test it."
   ]
  },
  {
   "cell_type": "code",
   "execution_count": 10,
   "id": "eb9a09c4",
   "metadata": {},
   "outputs": [],
   "source": [
    "class TemperatureReading:\n",
    "    def __init__(self, tempcelsius, time):\n",
    "        self.tempcelsius = tempcelsius\n",
    "        self.time = time\n",
    "        \n",
    "    @classmethod\n",
    "    def fromfahrenheit(cls, tempfahrenheit, time):\n",
    "        # the next line needs to be implmemented correctly !!!\n",
    "        c = 0\n",
    "        return cls(c,time)\n",
    "        \n",
    "    def __str__(self):\n",
    "        return ( (\"Temp: {:.1f} \" + self.time.isoformat()).format(self.tempcelsius, self.time))\n",
    "\n",
    "    def get_celsius(self):\n",
    "        # this just needs to return the temperature which is already in celsius\n",
    "        return self.tempcelsius\n",
    "    \n",
    "    def get_fahrenheit(self):\n",
    "        # this needs to be implemented.\n",
    "        return 0"
   ]
  },
  {
   "cell_type": "markdown",
   "id": "d0cc05e3",
   "metadata": {},
   "source": [
    "Below, I have implemented a unit test for the TemperatureReading class.  It checks that the class has been constructed properly, and checks that the temperature conversion methods have been implemented correctly."
   ]
  },
  {
   "cell_type": "code",
   "execution_count": 11,
   "id": "d0af7668",
   "metadata": {},
   "outputs": [
    {
     "name": "stderr",
     "output_type": "stream",
     "text": [
      ".FF\n",
      "======================================================================\n",
      "FAIL: test_fahrenheit_construction (__main__.TemperatureReadingTest)\n",
      "----------------------------------------------------------------------\n",
      "Traceback (most recent call last):\n",
      "  File \"/var/folders/3r/ntp23zp92sx8nln66qlqjl200000gp/T/ipykernel_86425/3898717608.py\", line 19, in test_fahrenheit_construction\n",
      "    self.assertEqual(32, my_temp.get_fahrenheit())\n",
      "AssertionError: 32 != 0\n",
      "\n",
      "======================================================================\n",
      "FAIL: test_fahrentheit_conversion (__main__.TemperatureReadingTest)\n",
      "----------------------------------------------------------------------\n",
      "Traceback (most recent call last):\n",
      "  File \"/var/folders/3r/ntp23zp92sx8nln66qlqjl200000gp/T/ipykernel_86425/3898717608.py\", line 14, in test_fahrentheit_conversion\n",
      "    self.assertEqual(self.testtemp.get_fahrenheit(), -40.0);\n",
      "AssertionError: 0 != -40.0\n",
      "\n",
      "----------------------------------------------------------------------\n",
      "Ran 3 tests in 0.002s\n",
      "\n",
      "FAILED (failures=2)\n"
     ]
    }
   ],
   "source": [
    "import unittest\n",
    "\n",
    "class TemperatureReadingTest(unittest.TestCase):\n",
    "    \n",
    "    def setUp(self):\n",
    "        self.testtime = datetime.now()\n",
    "        self.testtemp = TemperatureReading(-40.0, self.testtime)\n",
    "    \n",
    "    def test_construction(self):\n",
    "        self.assertEqual(self.testtemp.time, self.testtime);\n",
    "        self.assertEqual(self.testtemp.get_celsius(), -40.0)\n",
    "        \n",
    "    def test_fahrentheit_conversion(self):\n",
    "        self.assertEqual(self.testtemp.get_fahrenheit(), -40.0);\n",
    "        \n",
    "    def test_fahrenheit_construction(self):\n",
    "        my_temp = TemperatureReading.fromfahrenheit(32, self.testtime)\n",
    "        self.assertEqual(0, my_temp.get_celsius())\n",
    "        self.assertEqual(32, my_temp.get_fahrenheit())\n",
    "\n",
    "# Don't worry about the next two lines.  They are a bit of magic to make the unit test work in a Jupyter Notebook     \n",
    "if __name__ == '__main__':\n",
    "    unittest.main(argv=['first-arg-is-ignored'], exit=False)"
   ]
  },
  {
   "cell_type": "markdown",
   "id": "ea1a520d",
   "metadata": {},
   "source": [
    "# Inheritance\n",
    "\n",
    "An important concept to learn in OO modelling is inheritance. Let us imagine that our weather station has a humidity sensor. This is going to provide us with percentage humidity."
   ]
  },
  {
   "cell_type": "code",
   "execution_count": null,
   "id": "ab4e336f",
   "metadata": {},
   "outputs": [],
   "source": [
    "class HumidityReading:\n",
    "    def __init__(self, humidity, time):\n",
    "        self.humidity = humidity\n",
    "        self.time = time\n",
    "        \n",
    "    def __str__(self):\n",
    "        return \"I need to be implemented\""
   ]
  },
  {
   "cell_type": "code",
   "execution_count": null,
   "id": "4a802097",
   "metadata": {},
   "outputs": [],
   "source": [
    "humid = HumidityReading(58, datetime.now())"
   ]
  },
  {
   "cell_type": "markdown",
   "id": "b0231366",
   "metadata": {},
   "source": [
    "Implement the `__str__` method so it prints something useful to describe a humidity reading."
   ]
  },
  {
   "cell_type": "code",
   "execution_count": null,
   "id": "4327c205",
   "metadata": {},
   "outputs": [],
   "source": [
    "print(humid)"
   ]
  },
  {
   "cell_type": "markdown",
   "id": "a510d28e",
   "metadata": {},
   "source": [
    "Now we can see that there are some features that HumidityReading and TemperatureReading have in common.  We can put these common elements in a class.  So, weather reading just stores the time of the reading."
   ]
  },
  {
   "cell_type": "code",
   "execution_count": null,
   "id": "f9ee0ef5",
   "metadata": {},
   "outputs": [],
   "source": [
    "class WeatherReading:\n",
    "    def __init__(self, time):\n",
    "        self.time = time\n",
    "        \n",
    "    def printtime(self):\n",
    "        print(\"The reading was taken on \" + self.time.isoformat())"
   ]
  },
  {
   "cell_type": "markdown",
   "id": "0ef60b92",
   "metadata": {},
   "source": [
    "We can now redefine the Temperature and Humidity Readings. Rather than repeatedly implement the functionality around time in each class, we can implement it once in the parent class."
   ]
  },
  {
   "cell_type": "code",
   "execution_count": null,
   "id": "d83ba7dc",
   "metadata": {},
   "outputs": [],
   "source": [
    "class TemperatureReading(WeatherReading):\n",
    "    def __init__(self, tempcelsius, time):\n",
    "        self.tempcelsius = tempcelsius\n",
    "        WeatherReading.__init__(self,time)\n",
    "        \n",
    "    @classmethod\n",
    "    def fromfahrenheit(cls, tempfahrenheit, time):\n",
    "        # the next line needs to be implmemented correctly !!!\n",
    "        c = 0\n",
    "        return cls(c,time)\n",
    "        \n",
    "    def __str__(self):\n",
    "        return ( (\"Temp: {:.1f} \" + self.time.isoformat()).format(self.tempcelsius, self.time))\n",
    "\n",
    "    def get_celsius(self):\n",
    "        # this just needs to return the temperature which is already in celsius\n",
    "        return self.tempcelsius\n",
    "    \n",
    "    def get_fahrenheit(self):\n",
    "        # this needs to be implemented.\n",
    "        return 0"
   ]
  },
  {
   "cell_type": "code",
   "execution_count": null,
   "id": "45e754ed",
   "metadata": {},
   "outputs": [],
   "source": [
    "class HumidityReading(WeatherReading):\n",
    "    def __init__(self, humidity, time):\n",
    "        self.humidity = humidity\n",
    "        WeatherReading.__init__(self,time)\n",
    "        \n",
    "    def __str__(self):\n",
    "        return \"I need to be implemented\""
   ]
  },
  {
   "cell_type": "code",
   "execution_count": null,
   "id": "a6e6676c",
   "metadata": {},
   "outputs": [],
   "source": [
    "humid = HumidityReading(58, datetime.now())\n",
    "temp = TemperatureReading.fromfahrenheit(-40, datetime.now())\n",
    "temp = TemperatureReading(-40, datetime.now())"
   ]
  },
  {
   "cell_type": "markdown",
   "id": "ef209160",
   "metadata": {},
   "source": [
    "The next two lines of code are called on different instances, one is a TemperatureReading and one is a HumidityReading.  However, because they both inherit from WeatherReading, both lines below execute the same code."
   ]
  },
  {
   "cell_type": "code",
   "execution_count": null,
   "id": "9712c718",
   "metadata": {},
   "outputs": [],
   "source": [
    "temp.printtime()"
   ]
  },
  {
   "cell_type": "code",
   "execution_count": null,
   "id": "ee4fa74d",
   "metadata": {},
   "outputs": [],
   "source": [
    "humid.printtime()"
   ]
  },
  {
   "cell_type": "markdown",
   "id": "b15bfdd3",
   "metadata": {},
   "source": [
    "If you need further activities you could try:\n",
    "\n",
    "* implement other readings such as Wind Speed (don't forget you'll need a direction too)\n",
    "* implement a unit test for HumidityReading and any other classes you implement."
   ]
  },
  {
   "cell_type": "markdown",
   "id": "0b08d807",
   "metadata": {},
   "source": [
    "Another extension would be to look here:\n",
    "\n",
    "There is an example of someone has encapsulated all the necessary behaviour and data in a set of classes in this [Github Project](https://github.com/analyticsnate/noaa-daily-weather).  \n",
    "\n",
    "Credit to Nate Muth who gives permission in [this article](https://medium.com/@nmuth87/combining-pandas-with-object-oriented-programming-b5a5a4d09b7e) for cloning his repository and playing around with it. "
   ]
  }
 ],
 "metadata": {
  "kernelspec": {
   "display_name": "Python 3 (ipykernel)",
   "language": "python",
   "name": "python3"
  },
  "language_info": {
   "codemirror_mode": {
    "name": "ipython",
    "version": 3
   },
   "file_extension": ".py",
   "mimetype": "text/x-python",
   "name": "python",
   "nbconvert_exporter": "python",
   "pygments_lexer": "ipython3",
   "version": "3.9.7"
  }
 },
 "nbformat": 4,
 "nbformat_minor": 5
}
