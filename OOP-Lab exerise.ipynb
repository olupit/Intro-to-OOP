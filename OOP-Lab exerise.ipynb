{
 "cells": [
  {
   "cell_type": "markdown",
   "id": "9a0be483",
   "metadata": {},
   "source": [
    "<a href=\"https://www.nottingham.ac.uk/\"><img src=\"https://www.nottingham.ac.uk/Brand/LegacyAssets/images-multimedia/Supporting/Logo/Video/third-party-logos.JPG\" width=\"400\" align=\"center\"></a>\n",
    "\n",
    "<h1><center>Activity: Object-Oriented Programming Concepts</center></h1>\n",
    "\n",
    "<h2>About this Lab</h2><br>\n",
    "This Python script is designed for your activity in weekly tutorial for practicising concepts of Object-Oriented programming\n",
    "\n",
    "This is the similar activity that we demonstrated in the video and Notebook provided.<br>"
   ]
  },
  {
   "cell_type": "markdown",
   "id": "e9ed8ad4",
   "metadata": {},
   "source": [
    "# Question 1:\n",
    "Create a Vehicle class without any variables and methods"
   ]
  },
  {
   "cell_type": "code",
   "execution_count": null,
   "id": "be8798cb",
   "metadata": {},
   "outputs": [],
   "source": [
    "#write your code here"
   ]
  },
  {
   "cell_type": "markdown",
   "id": "8caef5de",
   "metadata": {},
   "source": [
    "# Question 2:\n",
    "Create a Vehicle class with max_speed and mileage instance attributes"
   ]
  },
  {
   "cell_type": "code",
   "execution_count": null,
   "id": "a7e10907",
   "metadata": {},
   "outputs": [],
   "source": [
    "#write your code"
   ]
  },
  {
   "cell_type": "code",
   "execution_count": null,
   "id": "d5de8db0",
   "metadata": {},
   "outputs": [],
   "source": []
  },
  {
   "cell_type": "markdown",
   "id": "0a40290b",
   "metadata": {},
   "source": [
    "# Question 3\n",
    "Create an object 'car' with max_speed 200 and car.mileage 10000"
   ]
  },
  {
   "cell_type": "code",
   "execution_count": 9,
   "id": "49f11e94",
   "metadata": {},
   "outputs": [],
   "source": [
    "#write your code here"
   ]
  },
  {
   "cell_type": "markdown",
   "id": "6b657d0b",
   "metadata": {},
   "source": [
    "# Question 4:\n",
    "Create child class Bus that will inherit all of the variables and methods of the Vehicle class"
   ]
  },
  {
   "cell_type": "code",
   "execution_count": null,
   "id": "4058ef14",
   "metadata": {},
   "outputs": [],
   "source": [
    "#write your code here"
   ]
  },
  {
   "cell_type": "markdown",
   "id": "7d70b62b",
   "metadata": {},
   "source": [
    "# Question 5:\n",
    "Create an object that takes from the child class"
   ]
  },
  {
   "cell_type": "markdown",
   "id": "9b963535",
   "metadata": {},
   "source": [
    "# Question 4:\n",
    "\n",
    "### Class Inheritance\n",
    "\n",
    "\n",
    "\n",
    "Create a Bus class that inherits from the Vehicle class. Give the capacity argument of Bus.seating_capacity() a default value of 50.\n",
    "\n",
    "Use the following code for your parent Vehicle class. You need to use method overriding."
   ]
  },
  {
   "cell_type": "code",
   "execution_count": 1,
   "id": "e8335cf6",
   "metadata": {},
   "outputs": [],
   "source": [
    "class Vehicle:\n",
    "    def __init__(self, name, max_speed, mileage):\n",
    "        self.name = name\n",
    "        self.max_speed = max_speed\n",
    "        self.mileage = mileage\n",
    "\n",
    "    def seating_capacity(self, capacity):\n",
    "        return f\"The seating capacity of a {self.name} is {capacity} passengers\""
   ]
  },
  {
   "cell_type": "code",
   "execution_count": 2,
   "id": "b8e8e951",
   "metadata": {},
   "outputs": [],
   "source": [
    "#write your code here"
   ]
  },
  {
   "cell_type": "markdown",
   "id": "0474f797",
   "metadata": {},
   "source": [
    "# Question 5:\n",
    "\n",
    "Using the parent class Vehicle defined above;\n",
    "\n",
    "Define property that should have the same value for every class instance\n",
    "\n",
    "Define a class attribute”color” with a default value white. I.e., Every Vehicle should be white.\n",
    "\n",
    "Use the following code for this exercise."
   ]
  },
  {
   "cell_type": "code",
   "execution_count": 3,
   "id": "f44281aa",
   "metadata": {},
   "outputs": [],
   "source": [
    "# write your code here"
   ]
  },
  {
   "cell_type": "markdown",
   "id": "64f95b7e",
   "metadata": {},
   "source": [
    "# Question 6:\n",
    "Class Inheritance\n",
    "\n",
    "Given: The parent class Vehicle as above\n",
    "\n",
    "Create a Bus child class that inherits from the Vehicle class. \n",
    "\n",
    "The default fare charge of any vehicle is seating capacity * 100. If Vehicle is Bus instance, we need to add an extra 10% on full fare as a maintenance charge. So total fare for bus instance will become the final amount = total fare + 10% of the total fare.\n",
    "\n",
    "Note: The bus seating capacity is 50 so the final fare amount should be 5550. You need to override the fare() method of a Vehicle class in Bus class.\n",
    "\n",
    "Use the following code for your parent Vehicle class. We need to access the parent class from inside a method of a child class."
   ]
  },
  {
   "cell_type": "code",
   "execution_count": null,
   "id": "44c27751",
   "metadata": {},
   "outputs": [],
   "source": []
  }
 ],
 "metadata": {
  "kernelspec": {
   "display_name": "Python 3",
   "language": "python",
   "name": "python3"
  },
  "language_info": {
   "codemirror_mode": {
    "name": "ipython",
    "version": 3
   },
   "file_extension": ".py",
   "mimetype": "text/x-python",
   "name": "python",
   "nbconvert_exporter": "python",
   "pygments_lexer": "ipython3",
   "version": "3.8.8"
  }
 },
 "nbformat": 4,
 "nbformat_minor": 5
}
